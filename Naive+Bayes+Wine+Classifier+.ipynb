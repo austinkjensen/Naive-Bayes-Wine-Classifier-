{
 "cells": [
  {
   "cell_type": "code",
   "execution_count": 1,
   "metadata": {
    "collapsed": true
   },
   "outputs": [],
   "source": [
    "import pandas as pd \n",
    "import numpy as np \n",
    "from sklearn.naive_bayes import GaussianNB\n",
    "df = pd.read_csv(\"RedWhiteWine.csv\")"
   ]
  },
  {
   "cell_type": "code",
   "execution_count": 2,
   "metadata": {
    "scrolled": true
   },
   "outputs": [
    {
     "data": {
      "text/html": [
       "<div>\n",
       "<style>\n",
       "    .dataframe thead tr:only-child th {\n",
       "        text-align: right;\n",
       "    }\n",
       "\n",
       "    .dataframe thead th {\n",
       "        text-align: left;\n",
       "    }\n",
       "\n",
       "    .dataframe tbody tr th {\n",
       "        vertical-align: top;\n",
       "    }\n",
       "</style>\n",
       "<table border=\"1\" class=\"dataframe\">\n",
       "  <thead>\n",
       "    <tr style=\"text-align: right;\">\n",
       "      <th></th>\n",
       "      <th>fixed acidity</th>\n",
       "      <th>volatile acidity</th>\n",
       "      <th>citric acid</th>\n",
       "      <th>residual sugar</th>\n",
       "      <th>chlorides</th>\n",
       "      <th>free sulfur dioxide</th>\n",
       "      <th>total sulfur dioxide</th>\n",
       "      <th>density</th>\n",
       "      <th>pH</th>\n",
       "      <th>sulphates</th>\n",
       "      <th>alcohol</th>\n",
       "      <th>quality</th>\n",
       "      <th>Class</th>\n",
       "    </tr>\n",
       "  </thead>\n",
       "  <tbody>\n",
       "    <tr>\n",
       "      <th>0</th>\n",
       "      <td>7.4</td>\n",
       "      <td>0.70</td>\n",
       "      <td>0.00</td>\n",
       "      <td>1.9</td>\n",
       "      <td>0.076</td>\n",
       "      <td>11.0</td>\n",
       "      <td>34.0</td>\n",
       "      <td>0.9978</td>\n",
       "      <td>3.51</td>\n",
       "      <td>0.56</td>\n",
       "      <td>9.4</td>\n",
       "      <td>5</td>\n",
       "      <td>1</td>\n",
       "    </tr>\n",
       "    <tr>\n",
       "      <th>1</th>\n",
       "      <td>7.8</td>\n",
       "      <td>0.88</td>\n",
       "      <td>0.00</td>\n",
       "      <td>2.6</td>\n",
       "      <td>0.098</td>\n",
       "      <td>25.0</td>\n",
       "      <td>67.0</td>\n",
       "      <td>0.9968</td>\n",
       "      <td>3.20</td>\n",
       "      <td>0.68</td>\n",
       "      <td>9.8</td>\n",
       "      <td>5</td>\n",
       "      <td>1</td>\n",
       "    </tr>\n",
       "    <tr>\n",
       "      <th>2</th>\n",
       "      <td>7.8</td>\n",
       "      <td>0.76</td>\n",
       "      <td>0.04</td>\n",
       "      <td>2.3</td>\n",
       "      <td>0.092</td>\n",
       "      <td>15.0</td>\n",
       "      <td>54.0</td>\n",
       "      <td>0.9970</td>\n",
       "      <td>3.26</td>\n",
       "      <td>0.65</td>\n",
       "      <td>9.8</td>\n",
       "      <td>5</td>\n",
       "      <td>1</td>\n",
       "    </tr>\n",
       "  </tbody>\n",
       "</table>\n",
       "</div>"
      ],
      "text/plain": [
       "   fixed acidity  volatile acidity  citric acid  residual sugar  chlorides  \\\n",
       "0            7.4              0.70         0.00             1.9      0.076   \n",
       "1            7.8              0.88         0.00             2.6      0.098   \n",
       "2            7.8              0.76         0.04             2.3      0.092   \n",
       "\n",
       "   free sulfur dioxide  total sulfur dioxide  density    pH  sulphates  \\\n",
       "0                 11.0                  34.0   0.9978  3.51       0.56   \n",
       "1                 25.0                  67.0   0.9968  3.20       0.68   \n",
       "2                 15.0                  54.0   0.9970  3.26       0.65   \n",
       "\n",
       "   alcohol  quality  Class  \n",
       "0      9.4        5      1  \n",
       "1      9.8        5      1  \n",
       "2      9.8        5      1  "
      ]
     },
     "execution_count": 2,
     "metadata": {},
     "output_type": "execute_result"
    }
   ],
   "source": [
    "df.head(3)"
   ]
  },
  {
   "cell_type": "markdown",
   "metadata": {},
   "source": [
    "Before we go to far, lets look at a bit of an interesting correlation "
   ]
  },
  {
   "cell_type": "code",
   "execution_count": 3,
   "metadata": {},
   "outputs": [
    {
     "name": "stdout",
     "output_type": "stream",
     "text": [
      "Index(['fixed acidity', 'volatile acidity', 'citric acid', 'residual sugar',\n",
      "       'chlorides', 'free sulfur dioxide', 'total sulfur dioxide', 'density',\n",
      "       'pH', 'sulphates', 'alcohol', 'quality', 'Class'],\n",
      "      dtype='object')\n"
     ]
    }
   ],
   "source": [
    "print(df.columns)"
   ]
  },
  {
   "cell_type": "code",
   "execution_count": 4,
   "metadata": {
    "collapsed": true
   },
   "outputs": [],
   "source": [
    "feat_cols = ['fixed acidity','volatile acidity','citric acid','residual sugar','chlorides','free sulfur dioxide','density','pH','sulphates','alcohol','quality']"
   ]
  },
  {
   "cell_type": "code",
   "execution_count": 5,
   "metadata": {
    "collapsed": true
   },
   "outputs": [],
   "source": [
    "import itertools \n",
    "def feat_engine(feats, n):\n",
    "    ls=[]\n",
    "    for i in itertools.combinations(feats, len(feats)-n):\n",
    "        ls.append(list(i))\n",
    "    return ls "
   ]
  },
  {
   "cell_type": "code",
   "execution_count": 6,
   "metadata": {
    "collapsed": true
   },
   "outputs": [],
   "source": [
    "from sklearn.model_selection import train_test_split\n",
    "from sklearn.metrics import roc_curve, auc, roc_auc_score\n",
    "import ast\n",
    "y = df['Class']\n",
    "dict_feat_combo_acc = {}\n",
    "dict_feat_combo_auc = {}\n",
    "dict_feat_comb_len_acc = {}\n",
    "dict_feat_comb_len_auc = {}\n",
    "\n",
    "for j in range(len(feat_cols)):\n",
    "    feat_combs=feat_engine(feat_cols, j)\n",
    "    for i in feat_combs:\n",
    "        X = df[i]\n",
    "        X_train, X_test, y_train, y_test = train_test_split(X, y, test_size=0.20, random_state=42)\n",
    "        gnb = GaussianNB()\n",
    "        gnb_model = gnb.fit(X_train, y_train)\n",
    "        y_pred = gnb_model.predict(X_test)\n",
    "        acc = (sum(y_pred!=y_test)/len(y_test))*100\n",
    "        auc_score = roc_auc_score(y_test, y_pred)\n",
    "        dict_feat_combo_auc[str(i)]=auc_score\n",
    "        dict_feat_combo_acc[str(i)]=acc\n",
    "\n"
   ]
  },
  {
   "cell_type": "code",
   "execution_count": 7,
   "metadata": {},
   "outputs": [
    {
     "data": {
      "text/plain": [
       "96.61538461538461"
      ]
     },
     "execution_count": 7,
     "metadata": {},
     "output_type": "execute_result"
    }
   ],
   "source": [
    "best_acc = min(dict_feat_combo_acc.values())\n",
    "best_acc_inverse = (100-best_acc)\n",
    "best_acc_inverse #The actual percentage correctly classified\n"
   ]
  },
  {
   "cell_type": "markdown",
   "metadata": {},
   "source": [
    "This is the highest accuracy for any combination of features for our model; lets find what the features were that gave us this accuracy.\n",
    "To find the combination of features:\n",
    "https://stackoverflow.com/questions/8023306/get-key-by-value-in-dictionary Getting the key of a dictionary by looking up the value:"
   ]
  },
  {
   "cell_type": "code",
   "execution_count": 8,
   "metadata": {},
   "outputs": [
    {
     "data": {
      "text/plain": [
       "\"['fixed acidity', 'volatile acidity', 'residual sugar', 'density', 'pH', 'sulphates']\""
      ]
     },
     "execution_count": 8,
     "metadata": {},
     "output_type": "execute_result"
    }
   ],
   "source": [
    "best_feats_acc = list(dict_feat_combo_acc.keys())[list(dict_feat_combo_acc.values()).index(best_acc)]\n",
    "best_feats_acc\n",
    "\n"
   ]
  },
  {
   "cell_type": "markdown",
   "metadata": {},
   "source": [
    "The output of the above is a string, I would like to turn it into a list: https://stackoverflow.com/questions/1894269/convert-string-representation-of-list-to-list"
   ]
  },
  {
   "cell_type": "code",
   "execution_count": 9,
   "metadata": {
    "collapsed": true
   },
   "outputs": [],
   "source": [
    "import ast\n",
    "best_feats_acc = ast.literal_eval(best_feats_acc)\n",
    "\n",
    "best_feats_acc = [n.strip() for n in best_feats_acc]"
   ]
  },
  {
   "cell_type": "code",
   "execution_count": 10,
   "metadata": {},
   "outputs": [
    {
     "data": {
      "text/plain": [
       "['fixed acidity',\n",
       " 'volatile acidity',\n",
       " 'residual sugar',\n",
       " 'density',\n",
       " 'pH',\n",
       " 'sulphates']"
      ]
     },
     "execution_count": 10,
     "metadata": {},
     "output_type": "execute_result"
    }
   ],
   "source": [
    "best_feats_acc"
   ]
  },
  {
   "cell_type": "markdown",
   "metadata": {},
   "source": [
    "The list above is the feature combination that yields the highest accuracy "
   ]
  },
  {
   "cell_type": "code",
   "execution_count": 11,
   "metadata": {},
   "outputs": [
    {
     "data": {
      "text/plain": [
       "0.9632116176735909"
      ]
     },
     "execution_count": 11,
     "metadata": {},
     "output_type": "execute_result"
    }
   ],
   "source": [
    "best_auc_score = max(dict_feat_combo_auc.values())\n",
    "best_auc_score"
   ]
  },
  {
   "cell_type": "code",
   "execution_count": 12,
   "metadata": {},
   "outputs": [
    {
     "data": {
      "text/plain": [
       "\"['fixed acidity', 'volatile acidity', 'residual sugar', 'chlorides', 'free sulfur dioxide', 'density', 'pH', 'sulphates']\""
      ]
     },
     "execution_count": 12,
     "metadata": {},
     "output_type": "execute_result"
    }
   ],
   "source": [
    "best_feats_auc = list(dict_feat_combo_auc.keys())[list(dict_feat_combo_auc.values()).index(best_auc_score)]\n",
    "best_feats_auc"
   ]
  },
  {
   "cell_type": "code",
   "execution_count": 13,
   "metadata": {
    "collapsed": true
   },
   "outputs": [],
   "source": [
    "best_feats_auc = ast.literal_eval(best_feats_auc)\n",
    "best_feats_auc = [n.strip() for n in best_feats_auc]"
   ]
  },
  {
   "cell_type": "code",
   "execution_count": 14,
   "metadata": {},
   "outputs": [
    {
     "data": {
      "text/plain": [
       "['fixed acidity',\n",
       " 'volatile acidity',\n",
       " 'residual sugar',\n",
       " 'chlorides',\n",
       " 'free sulfur dioxide',\n",
       " 'density',\n",
       " 'pH',\n",
       " 'sulphates']"
      ]
     },
     "execution_count": 14,
     "metadata": {},
     "output_type": "execute_result"
    }
   ],
   "source": [
    "best_feats_auc"
   ]
  },
  {
   "cell_type": "markdown",
   "metadata": {},
   "source": [
    "The accuracy for the feature combination with the highest AUC score is:"
   ]
  },
  {
   "cell_type": "code",
   "execution_count": 15,
   "metadata": {},
   "outputs": [
    {
     "data": {
      "text/plain": [
       "96.38461538461539"
      ]
     },
     "execution_count": 15,
     "metadata": {},
     "output_type": "execute_result"
    }
   ],
   "source": [
    "best_auc_acc = 100-(dict_feat_combo_acc[str(best_feats_auc)])\n",
    "best_auc_acc"
   ]
  },
  {
   "cell_type": "markdown",
   "metadata": {},
   "source": [
    "The AUC score of the feature combination for the highest accuracy is "
   ]
  },
  {
   "cell_type": "code",
   "execution_count": 16,
   "metadata": {},
   "outputs": [
    {
     "data": {
      "text/plain": [
       "0.9628859485228688"
      ]
     },
     "execution_count": 16,
     "metadata": {},
     "output_type": "execute_result"
    }
   ],
   "source": [
    "best_acc_auc = dict_feat_combo_auc[str(best_feats_acc)]\n",
    "best_acc_auc"
   ]
  },
  {
   "cell_type": "code",
   "execution_count": 17,
   "metadata": {},
   "outputs": [
    {
     "data": {
      "text/plain": [
       "0.032566915072207436"
      ]
     },
     "execution_count": 17,
     "metadata": {},
     "output_type": "execute_result"
    }
   ],
   "source": [
    "(best_auc_score - best_acc_auc)*100"
   ]
  },
  {
   "cell_type": "markdown",
   "metadata": {},
   "source": [
    "The difference between the highest AUC score for our feature subest and the highest accuracy subset's AUC score is less than 1/20th of a percent, so the addition of the \"free sulfur dioxide\" and \"chlorides\" features barely results in a better AUC score but actually hurts the accuracy of our classifier! "
   ]
  },
  {
   "cell_type": "markdown",
   "metadata": {},
   "source": [
    "It would be interesting to see how both the accuracy and AUC scores change with respect to the number of variables that we use from this dataset. I'm going to attempt to make a visualization that will intimate this for both metrics using matplotlib; this will be accomplished by plotting the max, average, and minimum AUC and accuracy scores for each number of features. This provides a nice way to intuitively understand our model's sensitivity to it's feature inputs"
   ]
  },
  {
   "cell_type": "code",
   "execution_count": 18,
   "metadata": {
    "collapsed": true
   },
   "outputs": [],
   "source": [
    "new_acc_dict = {'11':[],'10':[],\"9\":[],\"8\":[],\"7\":[],\"6\":[],\"5\":[],\"4\":[],\"3\":[],\"2\":[],\"1\":[]}\n",
    "\n",
    "for i in dict_feat_combo_acc.keys():\n",
    "    i = ast.literal_eval(i)\n",
    "    i = [n.strip() for n in i]\n",
    "    \n",
    "    new_acc_dict[str(len(i))].append(dict_feat_combo_acc[str(i)])"
   ]
  },
  {
   "cell_type": "code",
   "execution_count": 19,
   "metadata": {
    "collapsed": true
   },
   "outputs": [],
   "source": [
    "new_auc_dict = {'11':[],'10':[],\"9\":[],\"8\":[],\"7\":[],\"6\":[],\"5\":[],\"4\":[],\"3\":[],\"2\":[],\"1\":[]}\n",
    "for i in dict_feat_combo_auc.keys():\n",
    "    i = ast.literal_eval(i)\n",
    "    i = [n.strip() for n in i]\n",
    "    new_auc_dict[str(len(i))].append(dict_feat_combo_auc[str(i)])"
   ]
  },
  {
   "cell_type": "markdown",
   "metadata": {},
   "source": [
    "The dictionaries below will be the ones that we will use for plotting. "
   ]
  },
  {
   "cell_type": "code",
   "execution_count": 20,
   "metadata": {
    "collapsed": true
   },
   "outputs": [],
   "source": [
    "newest_acc_dict = {'11':[],'10':[],\"9\":[],\"8\":[],\"7\":[],\"6\":[],\"5\":[],\"4\":[],\"3\":[],\"2\":[],\"1\":[]}\n",
    "for i in new_auc_dict:\n",
    "    newest_acc_dict[i].append((min(new_acc_dict[i])))\n",
    "    newest_acc_dict[i].append((np.mean(new_acc_dict[i])))\n",
    "    newest_acc_dict[i].append((max(new_acc_dict[i])))\n",
    "    "
   ]
  },
  {
   "cell_type": "code",
   "execution_count": 21,
   "metadata": {
    "collapsed": true
   },
   "outputs": [],
   "source": [
    "newest_auc_dict = {'11':[],'10':[],\"9\":[],\"8\":[],\"7\":[],\"6\":[],\"5\":[],\"4\":[],\"3\":[],\"2\":[],\"1\":[]}\n",
    "for i in new_auc_dict:\n",
    "    newest_auc_dict[str(i)].append((min(new_auc_dict[i])))\n",
    "    newest_auc_dict[str(i)].append((np.mean(new_auc_dict[i])))\n",
    "    newest_auc_dict[str(i)].append((max(new_auc_dict[i])))"
   ]
  },
  {
   "cell_type": "code",
   "execution_count": 22,
   "metadata": {
    "collapsed": true
   },
   "outputs": [],
   "source": [
    "import matplotlib.pylab as plt\n",
    "x1 = list(newest_auc_dict.keys())\n",
    "x1 = list(map(int, x1))\n",
    "y1 = list(newest_auc_dict.values())"
   ]
  },
  {
   "cell_type": "code",
   "execution_count": 23,
   "metadata": {},
   "outputs": [
    {
     "data": {
      "image/png": "[encoded data removed]",
      "text/plain": [
       "<matplotlib.figure.Figure at 0x10d193b00>"
      ]
     },
     "metadata": {},
     "output_type": "display_data"
    }
   ],
   "source": [
    "plt.plot(x1,y1,'-ro')\n",
    "plt.xlabel(\"Number of features\")\n",
    "plt.ylabel(\"AUC Score\")\n",
    "plt.title(\"Max,average, and minimum AUC Score for this number of features\")\n",
    "plt.show()"
   ]
  },
  {
   "cell_type": "code",
   "execution_count": 24,
   "metadata": {
    "scrolled": true
   },
   "outputs": [
    {
     "data": {
      "image/png": "[encoded data removed]",
      "text/plain": [
       "<matplotlib.figure.Figure at 0x10db78da0>"
      ]
     },
     "metadata": {},
     "output_type": "display_data"
    }
   ],
   "source": [
    "x2 =  list(newest_acc_dict.keys())\n",
    "x2 = list(map(int, x1))\n",
    "y2 = list(newest_acc_dict.values())\n",
    "plt.plot(x2,y2,'-ro')\n",
    "plt.xlabel(\"Number of features\")\n",
    "plt.ylabel(\"Accuracy Error\")\n",
    "plt.title(\"Maximum,average, and minimum accuracy for this number of features\")\n",
    "plt.show()"
   ]
  },
  {
   "cell_type": "markdown",
   "metadata": {},
   "source": [
    "How are visualizations like the one above helpful? They can help inform us about how changes to the number and type of features used in our model can affect the cogency of our predictions. For example"
   ]
  },
  {
   "cell_type": "code",
   "execution_count": 25,
   "metadata": {},
   "outputs": [
    {
     "data": {
      "image/png": "[encoded data removed]",
      "text/plain": [
       "<matplotlib.figure.Figure at 0x10d9beb70>"
      ]
     },
     "metadata": {},
     "output_type": "display_data"
    }
   ],
   "source": [
    "feats_3_acc = sorted(new_acc_dict['3'])[0:30]\n",
    "plt.hist(feats_3_acc,bins=30)\n",
    "plt.show()"
   ]
  },
  {
   "cell_type": "code",
   "execution_count": 26,
   "metadata": {},
   "outputs": [
    {
     "data": {
      "text/plain": [
       "[6.153846153846154,\n",
       " 6.384615384615384,\n",
       " 6.923076923076923,\n",
       " 7.384615384615385,\n",
       " 7.538461538461538,\n",
       " 7.615384615384616,\n",
       " 7.769230769230768,\n",
       " 7.846153846153846,\n",
       " 7.923076923076923,\n",
       " 8.0,\n",
       " 8.0,\n",
       " 8.0,\n",
       " 8.153846153846153,\n",
       " 8.538461538461538,\n",
       " 8.615384615384615,\n",
       " 8.692307692307692,\n",
       " 8.76923076923077,\n",
       " 8.846153846153847,\n",
       " 8.923076923076923,\n",
       " 9.0,\n",
       " 9.230769230769232,\n",
       " 9.230769230769232,\n",
       " 9.384615384615385,\n",
       " 9.384615384615385,\n",
       " 9.384615384615385,\n",
       " 9.615384615384617,\n",
       " 9.615384615384617,\n",
       " 9.692307692307692,\n",
       " 9.769230769230768,\n",
       " 9.846153846153847]"
      ]
     },
     "execution_count": 26,
     "metadata": {},
     "output_type": "execute_result"
    }
   ],
   "source": [
    "feats_3_acc"
   ]
  },
  {
   "cell_type": "code",
   "execution_count": 27,
   "metadata": {
    "collapsed": true
   },
   "outputs": [],
   "source": [
    "master_acc_dict = {}\n",
    "master_auc_dict = {}\n",
    "for i in dict_feat_combo_acc:\n",
    "    i = ast.literal_eval(i)\n",
    "    i = [n.strip() for n in i]\n",
    "    \n",
    "    master_acc_dict[str(i)] = [dict_feat_combo_acc[str(i)],len(i)]\n",
    "    master_auc_dict[str(i)] = [dict_feat_combo_auc[str(i)],len(i)]"
   ]
  },
  {
   "cell_type": "code",
   "execution_count": 35,
   "metadata": {},
   "outputs": [
    {
     "data": {
      "text/plain": [
       "\"['fixed acidity', 'volatile acidity', 'citric acid']\""
      ]
     },
     "execution_count": 35,
     "metadata": {},
     "output_type": "execute_result"
    }
   ],
   "source": [
    "list(master_acc_dict.keys())[list(master_acc_dict.values()).index([9.384615384615385,\n",
    "  3])]"
   ]
  },
  {
   "cell_type": "markdown",
   "metadata": {},
   "source": [
    "Some AUC scores and accuracy scores can be repeats for the same number of features (one can see this by looking at the printed output of feats_3_acc above). Here I will write a function that will return the feature combinations for these repeat instances, that will take the AUC score or accuracy score alongside the number of features, and return the features used to yield that specific value of the appropriate performance metric. "
   ]
  },
  {
   "cell_type": "code",
   "execution_count": 29,
   "metadata": {
    "collapsed": true
   },
   "outputs": [],
   "source": [
    "def feat_combo_finder(master_dict,metric_and_feat_len):\n",
    "    list_of_feat_combos = []\n",
    "    for i in master_acc_dict.keys():\n",
    "        if master_dict[i] == metric_and_feat_len:\n",
    "            list_of_feat_combos.append(i)\n",
    "    return list_of_feat_combos\n",
    "        "
   ]
  },
  {
   "cell_type": "code",
   "execution_count": 30,
   "metadata": {},
   "outputs": [
    {
     "data": {
      "text/plain": [
       "[\"['fixed acidity', 'volatile acidity', 'citric acid']\",\n",
       " \"['residual sugar', 'chlorides', 'alcohol']\",\n",
       " \"['residual sugar', 'chlorides', 'quality']\"]"
      ]
     },
     "execution_count": 30,
     "metadata": {},
     "output_type": "execute_result"
    }
   ],
   "source": [
    "feat_combo_finder(master_acc_dict,[9.384615384615385,\n",
    "  3])"
   ]
  },
  {
   "cell_type": "markdown",
   "metadata": {
    "collapsed": true
   },
   "source": [
    "From the above, we can see that the quality and alcohol features are relatively interchangeable when used with the residual sugar and chlorides features. This is a running theme for larger sized feature combinations as well. This provides a way to see whats going on \"under the hood\" of the Naive Bayes Sklearn algorithm. I'm sure that there is a way to use built in attributes of the sklearn model to gleam some of this same information, but I really enjoyed making these dictionaries and functions for this purpose, and I feel like by doing this the long way I gained a better appreciation for what sklearn does for you in the background during model training. \n",
    "Possible next steps for a project like this would be to try and use RegExs to see what features are most common for high accuracy/AUC feature combinations across the higher dimensional models. I think this would be very interesting, but again I'm sure there is any easier way to do this using things that are built into sklearn, but still a fun thing to try nonetheless!"
   ]
  },
  {
   "cell_type": "code",
   "execution_count": null,
   "metadata": {
    "collapsed": true
   },
   "outputs": [],
   "source": []
  }
 ],
 "metadata": {
  "kernelspec": {
   "display_name": "Python 3",
   "language": "python",
   "name": "python3"
  },
  "language_info": {
   "codemirror_mode": {
    "name": "ipython",
    "version": 3
   },
   "file_extension": ".py",
   "mimetype": "text/x-python",
   "name": "python",
   "nbconvert_exporter": "python",
   "pygments_lexer": "ipython3",
   "version": "3.6.1"
  }
 },
 "nbformat": 4,
 "nbformat_minor": 2
}
